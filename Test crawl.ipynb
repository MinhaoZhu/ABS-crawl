{
 "cells": [
  {
   "cell_type": "code",
   "execution_count": 6,
   "metadata": {},
   "outputs": [],
   "source": [
    "from bs4 import BeautifulSoup\n",
    "import requests\n",
    "\n",
    "URL = \"https://www.abs.gov.au/statistics\""
   ]
  },
  {
   "cell_type": "code",
   "execution_count": 16,
   "metadata": {},
   "outputs": [
    {
     "name": "stdout",
     "output_type": "stream",
     "text": [
      "/statistics/economy/key-indicators\n",
      "/statistics/economy/price-indexes-and-inflation\n",
      "/statistics/economy/national-accounts\n",
      "/statistics/economy/international-trade\n",
      "/statistics/economy/business-indicators\n",
      "/statistics/economy/finance\n",
      "/statistics/economy/government\n",
      "/statistics/labour/earnings-and-work-hours\n",
      "/statistics/labour/employment-and-unemployment\n",
      "/statistics/industry/industry-overview\n",
      "/statistics/industry/agriculture\n",
      "/statistics/industry/building-and-construction\n",
      "/statistics/industry/energy\n",
      "/statistics/industry/mining\n",
      "/statistics/industry/retail-and-wholesale-trade\n",
      "/statistics/industry/technology-and-innovation\n",
      "/statistics/industry/tourism-and-transport\n",
      "/statistics/people/population\n",
      "/statistics/people/people-and-communities\n",
      "/statistics/people/aboriginal-and-torres-strait-islander-peoples\n",
      "/statistics/people/crime-and-justice\n",
      "/statistics/people/education\n",
      "/statistics/people/housing\n",
      "/statistics/health/health-conditions-and-risks\n",
      "/statistics/health/causes-death\n",
      "/statistics/health/disability\n",
      "/statistics/health/health-services\n",
      "/statistics/health/mental-health\n",
      "/statistics/environment/environmental-management\n",
      "/statistics/research\n",
      "/statistics/standards\n"
     ]
    }
   ],
   "source": [
    "html = requests.get(URL).text\n",
    "soup = BeautifulSoup(html, 'lxml')\n",
    "links = soup.find_all('a', {\"class\": \"field-group-link\"})\n",
    "\n",
    "for l in links:\n",
    "    link = l['href']\n",
    "    if link.startswith(\"/statistics\"):\n",
    "        print(link)\n",
    "# print(links)"
   ]
  },
  {
   "cell_type": "code",
   "execution_count": 3,
   "metadata": {},
   "outputs": [],
   "source": [
    "import os\n",
    "\n",
    "os.makedirs('./testimg/', exist_ok=True)"
   ]
  },
  {
   "cell_type": "code",
   "execution_count": null,
   "metadata": {},
   "outputs": [],
   "source": [
    "for ul in img_ul:\n",
    "    imgs = ul.find_all('img')\n",
    "    for img in imgs:\n",
    "        url = img['src']\n",
    "        r = requests.get(url, stream=True)\n",
    "        image_name = url.split('/')[-1]\n",
    "        with open('./img/%s' % image_name, 'wb') as f:\n",
    "            for chunk in r.iter_content(chunk_size=128):\n",
    "                f.write(chunk)\n",
    "        print('Saved %s' % image_name)"
   ]
  }
 ],
 "metadata": {
  "kernelspec": {
   "display_name": "Python 3",
   "language": "python",
   "name": "python3"
  },
  "language_info": {
   "codemirror_mode": {
    "name": "ipython",
    "version": 3
   },
   "file_extension": ".py",
   "mimetype": "text/x-python",
   "name": "python",
   "nbconvert_exporter": "python",
   "pygments_lexer": "ipython3",
   "version": "3.7.6"
  }
 },
 "nbformat": 4,
 "nbformat_minor": 4
}
